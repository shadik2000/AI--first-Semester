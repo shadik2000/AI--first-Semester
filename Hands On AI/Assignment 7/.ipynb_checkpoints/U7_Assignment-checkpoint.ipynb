{
 "cells": [
  {
   "cell_type": "markdown",
   "metadata": {},
   "source": [
    "Name | Matr.Nr. | Due Date\n",
    ":--- | ---: | ---:\n",
    "Firstname Lastname | 01234567 | 05.02.2024, 08:00"
   ]
  },
  {
   "cell_type": "markdown",
   "metadata": {},
   "source": [
    "<h1 style=\"color:rgb(0,120,170)\">Hands-on AI I</h1>\n",
    "<h2 style=\"color:rgb(0,120,170)\">Unit 7 &ndash; Tricks of the Trade</h2>"
   ]
  },
  {
   "cell_type": "markdown",
   "metadata": {},
   "source": [
    "<b>Authors:</b> Schlüter, Rumetshofer, Schörgenhumer<br>\n",
    "<b>Date:</b> 22-01-2024\n",
    "\n",
    "This file is part of the \"Hands-on AI I\" lecture material. The following copyright statement applies to all code within this file.\n",
    "\n",
    "<b>Copyright statement:</b><br>\n",
    "This material, no matter whether in printed or electronic form, may be used for personal and non-commercial educational use only. Any reproduction of this material, no matter whether as a whole or in parts, no matter whether in printed or in electronic form, requires explicit prior acceptance of the authors."
   ]
  },
  {
   "cell_type": "markdown",
   "metadata": {},
   "source": [
    "<h3 style=\"color:rgb(0,120,170)\">How to use this notebook</h3>\n",
    "\n",
    "This notebook is designed to run from start to finish. There are different tasks (displayed in <span style=\"color:rgb(248,138,36)\">orange boxes</span>) which require your contribution (in form of code, plain text, ...). Most/All of the supplied functions are imported from the file <code>u7_utils.py</code> which can be seen and treated as a black box. However, for further understanding, you can look at the implementations of the helper functions. In order to run this notebook, the packages which are imported at the beginning of <code>u7_utils.py</code> need to be installed."
   ]
  },
  {
   "cell_type": "code",
   "execution_count": null,
   "metadata": {
    "scrolled": true
   },
   "outputs": [],
   "source": [
    "# Required packages and the u7_utils file\n",
    "import u7_utils as u7\n",
    "from pathlib import Path\n",
    "import torch"
   ]
  },
  {
   "cell_type": "markdown",
   "metadata": {},
   "source": [
    "<h2>Exercise 1</h2>"
   ]
  },
  {
   "cell_type": "markdown",
   "metadata": {},
   "source": [
    "<div class=\"alert alert-warning\">\n",
    "    <b>Exercise 1.1. [5 Points]</b>\n",
    "    <ul>\n",
    "        <li>In this notebook, you will be working with the provided datatset <code>resources/burgers_and_buritos</code>.</li>\n",
    "        <li>Specify the path and download the images of this dataset.</li>\n",
    "        <li>Load the dataset, reserving 20% for validation and enabling data augmentation.</li>\n",
    "    </ul>\n",
    "</div>"
   ]
  },
  {
   "cell_type": "code",
   "execution_count": null,
   "metadata": {},
   "outputs": [],
   "source": [
    "# your code goes here"
   ]
  },
  {
   "cell_type": "markdown",
   "metadata": {},
   "source": [
    "<div class=\"alert alert-warning\">\n",
    "    <b>Exercise 1.2. [5 Points]</b>\n",
    "    <ul>\n",
    "        <li>Plot 8 example images in 2 rows.</li>\n",
    "    </ul>\n",
    "</div>"
   ]
  },
  {
   "cell_type": "code",
   "execution_count": null,
   "metadata": {},
   "outputs": [],
   "source": [
    "# your code goes here"
   ]
  },
  {
   "cell_type": "markdown",
   "metadata": {},
   "source": [
    "<h2>Exercise 2</h2>"
   ]
  },
  {
   "cell_type": "markdown",
   "metadata": {},
   "source": [
    "<div class=\"alert alert-warning\">\n",
    "    <b>Exercise 2.1. [5 Points]</b>\n",
    "    <ul>\n",
    "        <li>Using <code>u7.create_cnn()</code>, create a <b>pretrained</b> CNN with 18 layers and the number of classes set according to your dataset (the other settings do not matter).</li>\n",
    "        <li>Store the model in a variable called <code>model</code>.</li>\n",
    "    </ul>\n",
    "</div>"
   ]
  },
  {
   "cell_type": "code",
   "execution_count": null,
   "metadata": {},
   "outputs": [],
   "source": [
    "# your code goes here"
   ]
  },
  {
   "cell_type": "markdown",
   "metadata": {},
   "source": [
    "<div class=\"alert alert-warning\">\n",
    "    <b>Important:</b> Plot the weights of the first layer (already done, only need to execute the cell).\n",
    "</div>"
   ]
  },
  {
   "cell_type": "code",
   "execution_count": null,
   "metadata": {},
   "outputs": [],
   "source": [
    "weights = u7.visualize_cnn_filters(model, ncols=8, image_size=2)"
   ]
  },
  {
   "cell_type": "markdown",
   "metadata": {},
   "source": [
    "<h2>Exercise 3</h2>\n",
    "\n",
    "Using the dataset that you loaded in Exercise 1, perform the following tasks:"
   ]
  },
  {
   "cell_type": "markdown",
   "metadata": {},
   "source": [
    "<div class=\"alert alert-warning\">\n",
    "    <b>Exercise 3.1. [5 Points]</b>\n",
    "    <ul>\n",
    "        <li>Create a CNN with 18 layers, no dropout, no batch normalization, no residuals, and no pretraining, using <code>u7.create_cnn()</code>.</li>\n",
    "        <li><b>Important:</b> Set the seed to 100 before calling <code>u7.create_cnn()</code>.</li>\n",
    "    </ul>\n",
    "</div>"
   ]
  },
  {
   "cell_type": "code",
   "execution_count": null,
   "metadata": {},
   "outputs": [],
   "source": [
    "# your code goes here"
   ]
  },
  {
   "cell_type": "markdown",
   "metadata": {},
   "source": [
    "<div class=\"alert alert-warning\">\n",
    "    <b>Exercise 3.2. [5 Points]</b>\n",
    "    <ul>\n",
    "        <li>Plot the weights of the first layer and store them in a variable called <code>weights_before_training</code>.</li>\n",
    "    </ul>\n",
    "</div>"
   ]
  },
  {
   "cell_type": "code",
   "execution_count": null,
   "metadata": {},
   "outputs": [],
   "source": [
    "# your code goes here"
   ]
  },
  {
   "cell_type": "markdown",
   "metadata": {},
   "source": [
    "<div class=\"alert alert-warning\">\n",
    "    <b>Exercise 3.3. [5 Points]</b>\n",
    "    <ul>\n",
    "        <li>Train the model for 5 iterations/epochs, with a constant learning rate of 0.005 (no learning rate schedule), momentum of 0.9, and without plotting curves, using <code>u7.run_gradient_descent()</code>.</li>\n",
    "        <li>Hint: You may omit the validation set to speed up the computation, as it is not needed.</li>\n",
    "    </ul>\n",
    "</div>"
   ]
  },
  {
   "cell_type": "code",
   "execution_count": null,
   "metadata": {},
   "outputs": [],
   "source": [
    "# your code goes here"
   ]
  },
  {
   "cell_type": "markdown",
   "metadata": {
    "tags": []
   },
   "source": [
    "<div class=\"alert alert-warning\">\n",
    "    <b>Exercise 3.4. [5 Points]</b>\n",
    "    <ul>\n",
    "        <li>Plot the weights of the first layer again and store them in a variable called <code>weights_after_training</code>.</li>\n",
    "    </ul>\n",
    "</div>"
   ]
  },
  {
   "cell_type": "code",
   "execution_count": null,
   "metadata": {
    "tags": []
   },
   "outputs": [],
   "source": [
    "# your code goes here"
   ]
  },
  {
   "cell_type": "markdown",
   "metadata": {},
   "source": [
    "<div class=\"alert alert-warning\">\n",
    "    <b>Exercise 3.5. [5 Points]</b>\n",
    "    <ul>\n",
    "        <li>Compare the filters plotted before and after training. Do you see any difference? Did the filters change visibly during training?</li>\n",
    "    </ul>\n",
    "</div>"
   ]
  },
  {
   "cell_type": "markdown",
   "metadata": {},
   "source": [
    "your answer goes here"
   ]
  },
  {
   "cell_type": "markdown",
   "metadata": {},
   "source": [
    "<div class=\"alert alert-warning\">\n",
    "    <b>Important:</b> Print the absolute difference of weights before and after training (already done, only need to execute the cell). This might help you in answering the above question.\n",
    "</div>"
   ]
  },
  {
   "cell_type": "code",
   "execution_count": null,
   "metadata": {},
   "outputs": [],
   "source": [
    "(weights_before_training - weights_after_training).abs().sum().item()"
   ]
  },
  {
   "cell_type": "markdown",
   "metadata": {},
   "source": [
    "<h2>Exercise 4</h2>\n",
    "\n",
    "Similar to before, perform the following tasks:"
   ]
  },
  {
   "cell_type": "markdown",
   "metadata": {},
   "source": [
    "<div class=\"alert alert-warning\">\n",
    "    <b>Exercise 4.1. [5 Points]</b>\n",
    "    <ul>\n",
    "        <li>Create a CNN with 18 layers, no dropout, <b>with</b> batch normalization, <b>with</b> residuals, and no pretraining, using <code>u7.create_cnn()</code>.</li>\n",
    "        <li><b>Important:</b> Set the seed to 100 before calling <code>u7.create_cnn()</code>.</li>\n",
    "    </ul>\n",
    "</div>"
   ]
  },
  {
   "cell_type": "code",
   "execution_count": null,
   "metadata": {},
   "outputs": [],
   "source": [
    "# your code goes here"
   ]
  },
  {
   "cell_type": "markdown",
   "metadata": {},
   "source": [
    "<div class=\"alert alert-warning\">\n",
    "    <b>Exercise 4.2. [5 Points]</b>\n",
    "    <ul>\n",
    "        <li>Plot the weights of the first layer and store them in a variable called <code>weights_before_training</code>.</li>\n",
    "    </ul>\n",
    "</div>"
   ]
  },
  {
   "cell_type": "code",
   "execution_count": null,
   "metadata": {},
   "outputs": [],
   "source": [
    "# your code goes here"
   ]
  },
  {
   "cell_type": "markdown",
   "metadata": {},
   "source": [
    "<div class=\"alert alert-warning\">\n",
    "    <b>Exercise 4.3. [5 Points]</b>\n",
    "    <ul>\n",
    "        <li>Train the model for 5 iterations, with a constant learning rate of 0.005 (no learning rate schedule), momentum of 0.9, and without plotting curves, using <code>u7.run_gradient_descent()</code>.</li>\n",
    "        <li>Hint: You may omit the validation set to speed up the computation, as it is not needed.</li>\n",
    "    </ul>\n",
    "</div>"
   ]
  },
  {
   "cell_type": "code",
   "execution_count": null,
   "metadata": {},
   "outputs": [],
   "source": [
    "# your code goes here"
   ]
  },
  {
   "cell_type": "markdown",
   "metadata": {
    "tags": []
   },
   "source": [
    "<div class=\"alert alert-warning\">\n",
    "    <b>Exercise 4.4. [5 Points]</b>\n",
    "    <ul>\n",
    "        <li>Plot the weights of the first layer again and store them in a variable called <code>weights_after_training</code>.</li>\n",
    "    </ul>\n",
    "</div>"
   ]
  },
  {
   "cell_type": "code",
   "execution_count": null,
   "metadata": {
    "tags": []
   },
   "outputs": [],
   "source": [
    "# your code goes here"
   ]
  },
  {
   "cell_type": "markdown",
   "metadata": {},
   "source": [
    "<div class=\"alert alert-warning\">\n",
    "    <b>Exercise 4.5. [5 Points]</b>\n",
    "    <ul>\n",
    "        <li>Compare the filters plotted before and after training. Do you see any difference? Did the filters change visibly during training?</li>\n",
    "    </ul>\n",
    "</div>"
   ]
  },
  {
   "cell_type": "markdown",
   "metadata": {},
   "source": [
    "your answer goes here"
   ]
  },
  {
   "cell_type": "markdown",
   "metadata": {},
   "source": [
    "<div class=\"alert alert-warning\">\n",
    "    <b>Important:</b> Print the absolute difference of weights before and after training (already done, only need to execute the cell). This might help you in answering the above question.\n",
    "</div>"
   ]
  },
  {
   "cell_type": "code",
   "execution_count": null,
   "metadata": {},
   "outputs": [],
   "source": [
    "(weights_before_training - weights_after_training).abs().sum().item()"
   ]
  },
  {
   "cell_type": "markdown",
   "metadata": {},
   "source": [
    "<h2>Exercise 5</h2>\n",
    "\n",
    "Magic vs. you!"
   ]
  },
  {
   "cell_type": "markdown",
   "metadata": {},
   "source": [
    "<div class=\"alert alert-warning\">\n",
    "    <b>Exercise 5.1. [5 Points]</b>\n",
    "    <ul>\n",
    "        <li>Using <code>u7.perform_magic()</code>, calculate the error rate on the dataset specified in the beginning of the notebook (use the same path).</li>\n",
    "        <li>Use a validation size of 20% and let it run for 2 iterations/epochs. All other settings should use the default values.</li>\n",
    "        <li><b>Important:</b> Set the seed to 100 before calling <code>u7.perform_magic()</code>.</li>\n",
    "    </ul>\n",
    "</div>"
   ]
  },
  {
   "cell_type": "code",
   "execution_count": null,
   "metadata": {},
   "outputs": [],
   "source": []
  },
  {
   "cell_type": "markdown",
   "metadata": {},
   "source": [
    "<div class=\"alert alert-warning\">\n",
    "    <b>Exercise 5.2. [30 Points]</b>\n",
    "    <ul>\n",
    "        <li>Now it's your time! Can you get the same or a lower error rate on the validation set than the magic from above?</li>\n",
    "        <li>Use the same validation size of 20% when manually loading the dataset with <code>u7.load_image_dataset()</code>. All other settings are completely up to you!</li>\n",
    "        <li><b>Important:</b> Set the seed to 100 before all following calls:\n",
    "            <ul>\n",
    "                <li><code>u7.load_image_dataset()</code></li>\n",
    "                <li><code>u7.create_cnn()</code> (if you want to use this utility function, you can also set up your own architecture, but make sure to set the seed before that, too)</li>\n",
    "                <li><code>u7.run_gradient_descent()</code></li>\n",
    "            </ul>\n",
    "        </li>\n",
    "        <li>Note: In the unlikely case that <code>u7.perform_magic()</code> from above has an error rate of 0, try to get as close as possible to this result (within about 5% error rate).</li>\n",
    "    </ul>\n",
    "</div>"
   ]
  },
  {
   "cell_type": "code",
   "execution_count": null,
   "metadata": {},
   "outputs": [],
   "source": []
  }
 ],
 "metadata": {
  "kernelspec": {
   "display_name": "Python 3 (ipykernel)",
   "language": "python",
   "name": "python3"
  },
  "language_info": {
   "codemirror_mode": {
    "name": "ipython",
    "version": 3
   },
   "file_extension": ".py",
   "mimetype": "text/x-python",
   "name": "python",
   "nbconvert_exporter": "python",
   "pygments_lexer": "ipython3",
   "version": "3.9.7"
  }
 },
 "nbformat": 4,
 "nbformat_minor": 4
}
